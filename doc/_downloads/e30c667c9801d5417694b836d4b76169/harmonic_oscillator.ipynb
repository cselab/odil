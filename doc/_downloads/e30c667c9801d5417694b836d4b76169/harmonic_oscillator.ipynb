{
  "cells": [
    {
      "cell_type": "code",
      "execution_count": null,
      "metadata": {
        "collapsed": false
      },
      "outputs": [],
      "source": [
        "%pip install -q git+https://github.com/cselab/odil"
      ]
    },
    {
      "cell_type": "markdown",
      "metadata": {},
      "source": [
        "\n# Harmonic oscillator\n"
      ]
    },
    {
      "cell_type": "code",
      "execution_count": null,
      "metadata": {
        "collapsed": false
      },
      "outputs": [],
      "source": [
        "import numpy as np\nimport torch\nimport torch.nn as nn\nimport matplotlib.pyplot as plt\nimport math\n\ndef oscillator(d, w0, x):\n    w = math.sqrt(w0**2 - d**2)\n    phi = math.atan2(-d, w)\n    y = torch.exp(-d * x) * torch.cos(phi + w * x) / math.cos(phi)\n    return y\n\n\ntorch.manual_seed(123)\ntorch.set_default_dtype(torch.float32)\nd, w0 = 2.0, 20.0\nx = torch.linspace(0, 1, 500)[:, None]\ny = oscillator(d, w0, x)\nx_data = x[0:20:10]\ny_data = y[0:20:10]\nx_physics = torch.linspace(0, 1, 25)[:, None].requires_grad_(True)\nmodel = nn.Sequential(nn.Linear(1, 16), nn.Tanh(), nn.Linear(16, 16), nn.Tanh(), nn.Linear(16, 1))\noptimizer = torch.optim.Adam(model.parameters(), lr=1e-2)\nones = torch.ones_like(x_physics)\nfor i in range(5000):\n    optimizer.zero_grad()\n    yhp = model(x_physics)\n    dx, = torch.autograd.grad(yhp, x_physics, ones, create_graph=True)\n    dx2, = torch.autograd.grad(dx, x_physics, ones, create_graph=True)\n    physics = dx2 + 2 * d * dx + w0 * w0 * yhp\n    loss = torch.mean(\n        (model(x_data) - y_data)**2) + 1e-4 * torch.mean(physics**2)\n    loss.backward()\n    optimizer.step()\nplt.plot(x, y)\nplt.plot(x, model(x).detach(), '-')\nplt.show()"
      ]
    }
  ],
  "metadata": {
    "kernelspec": {
      "display_name": "Python 3",
      "language": "python",
      "name": "python3"
    },
    "language_info": {
      "codemirror_mode": {
        "name": "ipython",
        "version": 3
      },
      "file_extension": ".py",
      "mimetype": "text/x-python",
      "name": "python",
      "nbconvert_exporter": "python",
      "pygments_lexer": "ipython3",
      "version": "3.11.6"
    }
  },
  "nbformat": 4,
  "nbformat_minor": 0
}