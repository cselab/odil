{
  "cells": [
    {
      "cell_type": "code",
      "execution_count": null,
      "metadata": {
        "collapsed": false
      },
      "outputs": [],
      "source": [
        "%pip install -q git+https://github.com/cselab/odil"
      ]
    },
    {
      "cell_type": "markdown",
      "metadata": {},
      "source": [
        "\n# 1D Poisson\n"
      ]
    },
    {
      "cell_type": "code",
      "execution_count": null,
      "metadata": {
        "collapsed": false
      },
      "outputs": [],
      "source": [
        "import odil\nimport matplotlib.pyplot as plt\n\ndef apply_bc(domain, st):\n    ix, = domain.indices()\n    nx, = domain.size()\n    mod = domain.mod\n    extrap = odil.core.extrap_quadh\n    st[1] = mod.where(ix == 0, extrap(st[2], st[0], 0), st[1])\n    st[2] = mod.where(ix == nx - 1, extrap(st[1], st[0], 0), st[2])\n\n\ndef operator(ctx):\n    dx, = ctx.step()\n    u_st = [ctx.field('u'), ctx.field('u', -1), ctx.field('u', 1)]\n    apply_bc(ctx.domain, u_st)\n    u_xx = (u_st[2] - 2 * u_st[0] + u_st[1]) / dx**2\n    return [u_xx - ctx.extra['rhs']]\n\ndef get_ref_u(x):\n    p = 5\n    v = 5 * (1 - x) * x\n    return (v**p / (1 + v**p))**(1 / p)\n\nN = 32\ndomain = odil.Domain(cshape=[N], multigrid=True)\nmod = domain.mod\nx, = domain.points()\ndx, = domain.step()\nref_u = get_ref_u(x)\nu_st = [ref_u, mod.roll(ref_u, 1, 0), mod.roll(ref_u, -1, 0)]\napply_bc(domain, u_st)\nrhs = (u_st[2] - 2 * u_st[0] + u_st[1]) / dx**2\nstate = odil.State(fields={'u': None})\nstate = domain.init_state(state)\nproblem = odil.Problem(operator, domain, extra={'rhs': rhs})\nopt = odil.optimizer.make_optimizer('lbfgsb', dtype=domain.dtype, mod=mod)\n\n\ndef loss_grad(arrays):\n    domain.arrays_to_state(arrays, state)\n    loss, grads, terms, names, norms = problem.eval_loss_grad(state)\n    pinfo = {'terms': terms, 'names': names, 'norms': norms, 'loss': loss}\n    return loss, grads, pinfo\n\n\nopt.run(domain.arrays_from_state(state), loss_grad=loss_grad, epochs=33)\nfig, ax = plt.subplots()\nu = domain.field(state, 'u')\nax.plot(x, u, 'o', label='ODIL')\nax.plot(x, ref_u, label='reference')\nax.set_xlabel('x')\nax.set_ylabel('u')\nplt.show()"
      ]
    }
  ],
  "metadata": {
    "kernelspec": {
      "display_name": "Python 3",
      "language": "python",
      "name": "python3"
    },
    "language_info": {
      "codemirror_mode": {
        "name": "ipython",
        "version": 3
      },
      "file_extension": ".py",
      "mimetype": "text/x-python",
      "name": "python",
      "nbconvert_exporter": "python",
      "pygments_lexer": "ipython3",
      "version": "3.8.10"
    }
  },
  "nbformat": 4,
  "nbformat_minor": 0
}