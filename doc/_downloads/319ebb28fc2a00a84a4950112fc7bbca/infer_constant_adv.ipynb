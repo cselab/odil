{
  "cells": [
    {
      "cell_type": "code",
      "execution_count": null,
      "metadata": {
        "collapsed": false
      },
      "outputs": [],
      "source": [
        "%pip install -q git+https://github.com/cselab/odil"
      ]
    },
    {
      "cell_type": "markdown",
      "metadata": {},
      "source": [
        "\n# infer_constant_adv\n"
      ]
    },
    {
      "cell_type": "code",
      "execution_count": null,
      "metadata": {
        "collapsed": false
      },
      "outputs": [],
      "source": [
        "import argparse\nimport numpy as np\n\nimport odil\nfrom odil import printlog\n\"\"\"\nInference of unknown constant parameters in the advection-diffusion equation\nfrom the solution at the initial and final time.\n\"\"\"\n\nC_DIFF = 0.01  # Diffusivity.\nC_SRC = 0.1  # Uniform source.\nC_VEL = 0.2  # Advection velocity.\n\n\ndef get_exact(t, x):\n    '''\n    Returns solution of the equation:\n      u_t = nu * u_xx + src\n    '''\n    t = np.array(t)\n    x = np.array(x)\n    u = np.zeros_like(x)\n    nu = C_DIFF\n    xx = x - t * C_VEL\n    ii = [1, 2, 3]\n    for i in ii:\n        k = 2 * i * np.pi\n        u += np.cos(xx * k) * np.exp(-nu * k**2 * t)\n    u /= 2 * len(ii)\n    # Add uniform source.\n    src = C_SRC\n    u += src * t\n    return u\n\n\ndef transform_u(u, extra, mod):\n    u = mod.concatenate(\n        [extra.u_init[None, :], u[1:-1], extra.u_final[None, :]], axis=0)\n    return u\n\n\ndef operator_adv(mod, ctx):\n    dt, dx = ctx.step('t', 'x')\n    x = ctx.points('x')\n    it, ix = ctx.indices('t', 'x')\n    nt, nx = ctx.size('t', 'x')\n    coeff = ctx.array('coeff')\n    extra = ctx.extra\n\n    def stencil_roll(q):\n        return [\n            mod.roll(q, shift=np.negative(s), axis=(0, 1))\n            for s in [(0, 0), (0, -1), (0, 1), (-1, 0), (-1, -1), (-1, 1)]\n        ]\n\n    u = transform_u(ctx.field('u'), extra, mod)\n    u_st = stencil_roll(u)\n    u, uxm, uxp, um, umxm, umxp = u_st\n\n    u_t = (u - um) / dt\n    um_xx = (umxm - 2 * um + umxp) / (dx**2)\n    u_xx = (uxm - 2 * u + uxp) / (dx**2)\n    u_xx = 0.5 * (u_xx + um_xx)\n    um_x = (um - umxm) / dx\n    u_x = (u - uxm) / dx\n    u_x = 0.5 * (u_x + um_x)\n\n    # Discretization.\n    fu = u_t - coeff[0] * u_xx - coeff[1] + coeff[2] * u_x\n    res = [fu[1:]]\n    return res\n\n\ndef parse_args():\n    parser = argparse.ArgumentParser()\n    parser.add_argument('--Nt', type=int, default=64, help=\"Grid size in t\")\n    parser.add_argument('--Nx', type=int, default=64, help=\"Grid size in x\")\n    odil.util.add_arguments(parser)\n    odil.linsolver.add_arguments(parser)\n\n    parser.set_defaults(plot_every=50, report_every=50, history_every=50)\n    parser.set_defaults(frames=10)\n    parser.set_defaults(optimizer='lbfgsb')\n    parser.set_defaults(double=1)\n    parser.set_defaults(multigrid=1)\n    parser.set_defaults(plot_title=1)\n    parser.set_defaults(outdir='out_infer_constant_adv')\n    return parser.parse_args()\n\n\ndef plot(problem, state, epoch, frame, cbinfo=None):\n    domain = problem.domain\n    extra = problem.extra\n    uu_exact = extra.uu_exact\n\n    # Print current values of coefficients.\n    printlog('diff={:.5g}, src={:.5g}, vel={:.5g}'.format(\n        *np.array(state.fields['coeff'].array)))\n\n    title0 = \"u epoch={:05d}\".format(epoch) if args.plot_title else None\n    path0 = \"u_{:05d}.png\".format(frame)\n    printlog(path0)\n\n    uu = domain.regular_array(state.fields['u'])\n    uu = np.array(transform_u(uu, extra, domain.mod))\n\n    x_imp = None\n    y_imp = None\n    marker_color = None\n\n    umax = max(abs(np.max(uu_exact)), abs(np.min(uu_exact)))\n    odil.plot.plot_1d(domain,\n                      uu_exact,\n                      uu,\n                      path=path0,\n                      title=title0,\n                      cmap='RdBu_r',\n                      nslices=5,\n                      transpose=True,\n                      transparent=False,\n                      x_imp=x_imp,\n                      y_imp=y_imp,\n                      marker_color=marker_color,\n                      umin=-umax,\n                      umax=umax)\n\n\ndef make_problem(args):\n    dtype = np.float64 if args.double else np.float32\n    domain = odil.Domain(cshape=(args.Nt, args.Nx),\n                         dimnames=('t', 'x'),\n                         lower=(0, -1),\n                         upper=(1, 1),\n                         dtype=dtype,\n                         multigrid=args.multigrid,\n                         mg_interp=args.mg_interp,\n                         mg_nlvl=args.nlvl)\n\n    # Evaluate exact solution, boundary and initial conditions.\n    tt, xx = domain.points()\n    # Node-based in time, cell-based in space.\n    t1 = domain.points('t', loc='n.')\n    x1 = domain.points('x', loc='.c')\n    uu_exact = get_exact(tt, xx)\n    u_init = get_exact(x1 * 0 + domain.lower[0], x1)\n    u_final = get_exact(x1 * 0 + domain.upper[0], x1)\n\n    # Initial state.\n    state = odil.State(fields={\n        'coeff': [0, 0, 0.001],\n        'u': odil.Field(None, loc='nc'),\n    })\n    state = domain.init_state(state)\n\n    extra = argparse.Namespace()\n    extra.uu_exact = uu_exact\n    extra.u_init = u_init\n    extra.u_final = u_final\n    extra.args = args\n\n    problem = odil.Problem(operator_adv, domain, extra)\n    return problem, state\n\n\ndef main():\n    global problem, args\n\n    args = parse_args()\n    odil.setup_outdir(args)\n    problem, state = make_problem(args)\n\n    callback = odil.make_callback(problem, args, plot_func=plot)\n    odil.optimize(args, args.optimizer, problem, state, callback)\n\n    with open('done', 'w') as f:\n        pass\n\n\nif __name__ == \"__main__\":\n    main()"
      ]
    }
  ],
  "metadata": {
    "kernelspec": {
      "display_name": "Python 3",
      "language": "python",
      "name": "python3"
    },
    "language_info": {
      "codemirror_mode": {
        "name": "ipython",
        "version": 3
      },
      "file_extension": ".py",
      "mimetype": "text/x-python",
      "name": "python",
      "nbconvert_exporter": "python",
      "pygments_lexer": "ipython3",
      "version": "3.9.2"
    }
  },
  "nbformat": 4,
  "nbformat_minor": 0
}